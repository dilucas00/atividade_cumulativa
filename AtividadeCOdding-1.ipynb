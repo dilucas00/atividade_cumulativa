{
 "cells": [
  {
   "cell_type": "code",
   "execution_count": 9,
   "metadata": {},
   "outputs": [
    {
     "name": "stdout",
     "output_type": "stream",
     "text": [
      "A letra digitada w é uma consoante\n"
     ]
    }
   ],
   "source": [
    "# 1) Faça um Programa que verifique se uma letra digitada é vogal ou consoante.\n",
    "\n",
    "letra = str(input(\"Digite uma letra: \"))\n",
    "\n",
    "if letra in \"aeiouAEIOU\":\n",
    "    print(\"A letra digitada:\",letra,\"é uma vogal\")\n",
    "else:\n",
    "    print(\"A letra digitada\", letra,\"é uma consoante\")"
   ]
  },
  {
   "cell_type": "code",
   "execution_count": 10,
   "metadata": {},
   "outputs": [
    {
     "name": "stdout",
     "output_type": "stream",
     "text": [
      "o produto 1 que custa R$10.0, é a sua melhor escolha, visto que possui o menor preço.\n"
     ]
    }
   ],
   "source": [
    "# 2) Faça um programa que pergunte o preço de três produtos e informe qual produto você deve comprar, sabendo que a decisão é sempre pelo mais barato.\n",
    "\n",
    "produto1 = float(input(\"Digite o preço do primeiro produto:R$ \"))\n",
    "produto2 = float(input(\"Ditite o preço do segundo produto:R$ \"))\n",
    "produto3 = float(input(\"Digite o preço do terceiro produto:R$ \"))\n",
    "\n",
    "if produto1 < produto2 and produto1 < produto3:\n",
    "    print(f\"o produto 1 que custa R${produto1}, é a sua melhor escolha, visto que possui o menor preço.\")\n",
    "elif produto2 < produto1 and produto2 < produto3:\n",
    "    print(f\"o produto 2 que custa R${produto2}, é a sua melhor escolha, visto que possui o menor preço.\")\n",
    "else:\n",
    "    print(f\"o produto 3 que custa R${produto3}, é a sua melhor escolha, visto que ele possui o menor preço.\")\n",
    "\n",
    "\n"
   ]
  },
  {
   "cell_type": "code",
   "execution_count": 11,
   "metadata": {},
   "outputs": [
    {
     "name": "stdout",
     "output_type": "stream",
     "text": [
      "A ordem decrescente dos números é: 9, 8, 5.\n"
     ]
    }
   ],
   "source": [
    "# 3) Faça um Programa que leia três números e mostre-os em ordem decrescente\n",
    "\n",
    "numero1 = int(input(\"Digite o primeiro numero: \"))\n",
    "numero2 = int(input(\"Digite o segundo numero: \"))\n",
    "numero3 = int(input(\"Digite o terceiro numero: \"))\n",
    "\n",
    "if numero1 >= numero2 and numero1 >= numero3:\n",
    "  maior = numero1\n",
    "  if numero2 >= numero3:\n",
    "    meio = numero2\n",
    "    menor = numero3\n",
    "  else:\n",
    "    meio = numero3\n",
    "    menor = numero2\n",
    "elif numero2 >= numero1 and numero2 >= numero3:\n",
    "  maior = numero2\n",
    "  if numero1 >= numero3:\n",
    "    meio = numero1\n",
    "    menor = numero3\n",
    "  else:\n",
    "    meio = numero3\n",
    "    menor = numero1\n",
    "else:\n",
    "  maior = numero3\n",
    "  if numero1 >= numero2:\n",
    "    meio = numero1\n",
    "    menor = numero2\n",
    "  else:\n",
    "    meio = numero2\n",
    "    menor = numero1\n",
    "\n",
    "print(f\"A ordem decrescente dos números é: {maior}, {meio}, {menor}.\")"
   ]
  },
  {
   "cell_type": "code",
   "execution_count": 32,
   "metadata": {},
   "outputs": [],
   "source": [
    "# 4) Faça um Programa que pergunte em que turno você estuda. Peça para digitar M-matutino ou V-Vespertino ou N- Noturno. Imprima a mensagem \"Bom Dia!\", \"Boa Tarde!\" ou \"Boa Noite!\" ou \"Valor Inválido!\", conforme o caso.\n",
    "\n",
    "turno = input(\"Em qual turno você estuda? V - vespertino, M - matutino e N - noturno:\")\n",
    "\n",
    "if turno == \"M\":\n",
    "    print(\"Bom dia!\")\n",
    "elif turno == \"V\":\n",
    "    print(\"Boa tarde!\")\n",
    "elif turno == \"N\":\n",
    "    print(\"Boa noite!\")\n",
    "else:\n",
    "    print(\"Valor invalido! tente novamente.\")"
   ]
  },
  {
   "cell_type": "code",
   "execution_count": 31,
   "metadata": {},
   "outputs": [
    {
     "name": "stdout",
     "output_type": "stream",
     "text": [
      "O dia 5 da semana é uma Quinta-feira.\n"
     ]
    }
   ],
   "source": [
    "# 5) Faça um Programa que leia um número e exiba o dia correspondente da semana. (1-Domingo, 2- Segunda, etc). Se for digitado outro valor deve retornar uma mensagem informando valor inválido.\n",
    "numero_semana = int(input(\"Digite um numero que corresponda ao dia da semana que você deseja saber: \"))\n",
    "\n",
    "if  numero_semana == 1:\n",
    "    print(f\"O dia {numero_semana} da semana é um Domingo.\")\n",
    "elif numero_semana == 2:\n",
    "    print(f\"O dia {numero_semana} da semana é uma Segunda-feira.\")\n",
    "elif numero_semana == 3:\n",
    "    print(f\"O dia {numero_semana} da semana é uma Terça-feira.\")\n",
    "elif numero_semana == 4:\n",
    "    print(f\"O dia {numero_semana} da semana é uma Quarta-feira.\")\n",
    "elif numero_semana == 5:\n",
    "    print(f\"O dia {numero_semana} da semana é uma Quinta-feira.\")\n",
    "elif numero_semana == 6:\n",
    "    print(f\"O dia {numero_semana} da semana é uma Sexta-feira. Sextou \")\n",
    "elif numero_semana == 7:\n",
    "    print(f\"O dia {numero_semana} da semana é um Sábado.\")\n",
    "else:\n",
    "    print(\"A semana possui 7 dias, digite um numero de 1 a 7.\")\n",
    "    \n"
   ]
  },
  {
   "cell_type": "code",
   "execution_count": 5,
   "metadata": {},
   "outputs": [
    {
     "name": "stdout",
     "output_type": "stream",
     "text": [
      "Aprovado\n",
      "Media:7.0\n",
      "Conceito C\n"
     ]
    }
   ],
   "source": [
    "# 6) Faça um programa que leia as duas notas parciais obtidas por um aluno numa disciplina ao longo de um semestre, e calcule a sua média.\n",
    "\n",
    "nota1 = float(input(\"Digite a primeira nota: \"))\n",
    "nota2 = float(input(\"Digite a segunda nota: \"))\n",
    "media = (nota1 + nota2) / 2\n",
    "\n",
    "if media >= 9 and media <= 10:\n",
    "    print(f\"Aprovado\" \"\\n\" f\"Media:{media}\" \"\\n\" f\"Conceito A\")\n",
    "elif media >= 7.5 and media < 9.0:\n",
    "    print(f\"Aprovado\" \"\\n\" f\"Media:{media}\" \"\\n\" f\"Conceito B\")\n",
    "elif media >= 6.0 and media < 7.5:\n",
    "    print(f\"Aprovado\" \"\\n\" f\"Media:{media}\" \"\\n\" f\"Conceito C\")\n",
    "elif media >= 4.0 and media < 6.0:\n",
    "    print(f\"Reprovado\" \"\\n\" f\"Media:{media}\" \"\\n\" f\"Conceito D\")\n",
    "elif media < 4.0:\n",
    "    print(f\"Reprovado\" \"\\n\" f\"Media:{media}\" \"\\n\" f\"Conceito E\")\n",
    "else:\n",
    "    print(\"ERRO\")\n",
    "\n",
    "    \n",
    "\n"
   ]
  },
  {
   "cell_type": "code",
   "execution_count": 2,
   "metadata": {},
   "outputs": [
    {
     "name": "stdout",
     "output_type": "stream",
     "text": [
      "2023 não é um ano bissexto.\n"
     ]
    }
   ],
   "source": [
    "#6. Faça um Programa que peça um número correspondente a um determinado ano e em seguida informe se este ano é ou não bissexto.\n",
    "\n",
    "ano = int(input(\"Digite um ano: \"))\n",
    "\n",
    "if ano % 4 == 0:\n",
    "  if ano % 100 != 0:\n",
    "    print(ano, \"é um ano bissexto.\")\n",
    "  elif ano % 400 == 0:\n",
    "    print(ano, \"é um ano bissexto.\")\n",
    "  else:\n",
    "    print(ano, \"não é um ano bissexto.\")\n",
    "else:\n",
    "  print(ano, \"não é um ano bissexto.\")"
   ]
  },
  {
   "cell_type": "code",
   "execution_count": 15,
   "metadata": {},
   "outputs": [
    {
     "name": "stdout",
     "output_type": "stream",
     "text": [
      "================== Calculadora ==================\n",
      "A divisão entre 13.0 e 2.0 é igual a = 6.5\n",
      "O numero é impar\n",
      "O numero é positivo\n",
      "O numero é decimal\n"
     ]
    }
   ],
   "source": [
    "# 7. Faça um Programa que leia 2 números e em seguida pergunte ao usuário qual operação básica(soma, subtração, multiplicação, divisão, exponenciação) ele deseja realizar. O resultado da operação deve ser acompanhado de uma frase que diga se o número é: par ou impar, positivo ou negativo; inteiro ou decimal.\n",
    "\n",
    "num1= float(input(\"Digite um numero: \"))\n",
    "num2 = float(input(\"Digite outro numero: \"))\n",
    "\n",
    "operacao = input(\"Qual operação você deseja realizar? Adição(+) | Subtração(-) | Multiplicação(*)  | Divisão(/)  | Exponenciação(**)\")\n",
    "print(\"================== Calculadora ==================\")\n",
    "if operacao == \"Adição\" or operacao == \"+\":\n",
    "    adicao = num1 + num2\n",
    "    print(f\"A soma entre {num1} e {num2} é igual a: {adicao}\")\n",
    "    if adicao % 2 == 0:\n",
    "        print(f\"O numero é par\")\n",
    "    else:\n",
    "        print(f\"O numero é impar\")\n",
    "    if adicao > 0:\n",
    "        print(f\"O numero é positivo\")\n",
    "    else:\n",
    "        print(\"O numero é negativo\")\n",
    "    if adicao % 1 == 0:\n",
    "        print(\"O numero é inteiro\")\n",
    "    else:\n",
    "        print(\"O numero é decimal\")\n",
    "elif operacao == \"Subtração\" or operacao == \"-\":\n",
    "    subtracao = num1 - num2\n",
    "    print(f\"A subtração entre {num1} e {num2} é igual a = {subtracao}\")\n",
    "    if subtracao % 2 == 0:\n",
    "        print(f\"O numero é par\")\n",
    "    else:\n",
    "        print(f\"O numero é impar\")\n",
    "    if subtracao > 0:\n",
    "        print(f\"O numero é positivo\")\n",
    "    else:\n",
    "        print(\"O numero é negativo\")\n",
    "    if subtracao % 1 == 0:\n",
    "        print(\"O numero é inteiro\")\n",
    "    else:\n",
    "        print(\"O numero é decimal\")\n",
    "\n",
    "elif operacao == \"Multiplicaçõo\" or operacao == \"*\":\n",
    "    multiplicacao = num1 * num2\n",
    "    print(f\"A multiplicação entre {num1} e {num2} é igual a = {multiplicacao}\")\n",
    "    if multiplicacao % 2 == 0:\n",
    "        print(f\"O numero é par\")\n",
    "    else:\n",
    "        print(f\"O numero é impar\")\n",
    "    if multiplicacao > 0:\n",
    "        print(f\"O numero é positivo\")\n",
    "    else:\n",
    "        print(\"O numero é negativo\")\n",
    "    if multiplicacao % 1 == 0:\n",
    "        print(\"O numero é inteiro\")\n",
    "    else:\n",
    "        print(\"O numero é decimal\")\n",
    "\n",
    "elif operacao == \"Divisão\" or operacao == \"/\":\n",
    "    divisao = num1 / num2\n",
    "    print(f\"A divisão entre {num1} e {num2} é igual a = {divisao}\")\n",
    "    if divisao % 2 == 0:\n",
    "        print(f\"O numero é par\")\n",
    "    else:\n",
    "        print(f\"O numero é impar\")\n",
    "    if divisao > 0:\n",
    "        print(f\"O numero é positivo\")\n",
    "    else:\n",
    "        print(\"O numero é negativo\")\n",
    "    if divisao % 1 == 0:\n",
    "        print(\"O numero é inteiro\")\n",
    "    else:\n",
    "        print(\"O numero é decimal\")\n",
    "\n",
    "elif operacao == \"Exponenciação\" or operacao == \"**\":\n",
    "    exponenciacao = num1 ** num2\n",
    "    print(f\"A exponenciação entre {num1} e {num2} é igual a = {exponenciacao}\")\n",
    "    if exponenciacao % 2 == 0:\n",
    "        print(f\"O numero é par\")\n",
    "    else:\n",
    "        print(f\"O numero é impar\")\n",
    "    if exponenciacao > 0:\n",
    "        print(f\"O numero é positivo\")\n",
    "    else:\n",
    "        print(\"O numero é negativo\")\n",
    "    if exponenciacao % 1 == 0:\n",
    "        print(\"O numero é inteiro\")\n",
    "    else:\n",
    "        print(\"O numero é decimal\")\n",
    "else:\n",
    "    print(\"A operação escolhida não existe, tente novamente e se atenta as intruções do inicio.\")\n"
   ]
  },
  {
   "cell_type": "code",
   "execution_count": 21,
   "metadata": {},
   "outputs": [
    {
     "name": "stdout",
     "output_type": "stream",
     "text": [
      "Valor digitado: 851\n",
      "Valor ultrapassa o limite.\n"
     ]
    }
   ],
   "source": [
    "# 8. Faça um programa que peça a idade e exiba a informação. Os valores aceitáveis devern estar entre 0 e 150. Valores fora desse limite não poderão ser aceitos\n",
    "\n",
    "idade = int(input(\"Digite sua idade: \"))\n",
    "\n",
    "if idade < 150 and idade > 0:\n",
    "    print(f\"Sua idade é: {idade} anos\")\n",
    "else:\n",
    "    print(f\"Valor digitado: {idade}\")\n",
    "    print(\"Valor ultrapassa o limite, tente novamente.\")"
   ]
  },
  {
   "cell_type": "code",
   "execution_count": 22,
   "metadata": {},
   "outputs": [
    {
     "name": "stdout",
     "output_type": "stream",
     "text": [
      " A soma dos numeros é = 25.0\n",
      "A media dos numeros informados é = 5.0\n"
     ]
    }
   ],
   "source": [
    "# 9. Utilizando estruturas de repetição e listas(com ou sem.append), faça um programa que leia 5 números e informe a soma e a média dos números\n",
    "numeros = []\n",
    "for i in range(5):\n",
    "    numero = float(input(\"Digite um numero: \"))\n",
    "    numeros.append(numero) # Adiciona o número à lista\n",
    "soma = 0\n",
    "for numero in numeros:\n",
    "    soma += numero\n",
    "\n",
    "media = soma / len(numeros) \n",
    "\n",
    "print(f\"A soma dos numeros é = {soma}\")\n",
    "print(f\"A media dos numeros informados é = {media}\")\n",
    "\n",
    "    \n",
    "\n"
   ]
  },
  {
   "cell_type": "code",
   "execution_count": 29,
   "metadata": {},
   "outputs": [
    {
     "name": "stdout",
     "output_type": "stream",
     "text": [
      "2 é um número primo!\n"
     ]
    }
   ],
   "source": [
    "# 10. Faça um programa que peça um número inteiro e determine se ele é ou não um número primo. Um número primo é aquele que é divisivel somente por ele mesmo e por 1.\n",
    "\n",
    "# 1. Solicita o número inteiro ao usuário\n",
    "numero = int(input(\"Digite um número inteiro: \"))\n",
    "\n",
    "# 2. Define variáveis para contagem e resultado\n",
    "contador_divisores = 0\n",
    "eh_primo = True\n",
    "\n",
    "# 3. Verifica se o número é menor ou igual a 1\n",
    "if numero <= 1:\n",
    "  eh_primo = False\n",
    "\n",
    "# 4. Laço para verificar divisores (2 até a raiz quadrada do número)\n",
    "for divisor in range(2, int(numero**0.5) + 1):\n",
    "  # 4.1 Verifica se o número é divisível pelo divisor\n",
    "  if numero % divisor == 0:\n",
    "    # 4.2 Se for divisível, incrementa o contador e muda a flag\n",
    "    contador_divisores += 1\n",
    "    eh_primo = False\n",
    "    # 4.3 Sai do laço se encontrar mais de um divisor (não primo)\n",
    "    if contador_divisores > 1:\n",
    "      break\n",
    "\n",
    "# 5. Exibe o resultado\n",
    "if eh_primo:\n",
    "  print(f\"{numero} é um número primo!\")\n",
    "else:\n",
    "  print(f\"{numero} não é um número primo.\")\n"
   ]
  },
  {
   "cell_type": "code",
   "execution_count": 31,
   "metadata": {},
   "outputs": [
    {
     "name": "stdout",
     "output_type": "stream",
     "text": [
      "A menor temperatura informada foi: 1.00 C°\n",
      "A maior temperatura informada foi: 63.00 C°\n",
      "A média das temperaturas informadas foi: 34.00 C°\n"
     ]
    }
   ],
   "source": [
    "# 11) O Departamento Estadual de Meteorologia lhe contratou para desenvolver um programa que leia 5 temperaturas, e informe ao final a menor e a maior temperaturas informadas, bem como a média das temperaturas\n",
    "\n",
    "\n",
    "temperatura1 = float(input(\"Digite a primeira temperatura: \"))\n",
    "temperatura2 = float(input(\"Digite a segunda temperatura: \"))\n",
    "temperatura3 = float(input(\"Digite a terceira temperatura: \"))\n",
    "temperatura4 = float(input(\"Digite a quarta temperatura: \"))\n",
    "temperatura5 = float(input(\"Digite a quinta temperatura: \"))\n",
    "\n",
    "# Cálculo da menor temperatura\n",
    "menor_temperatura = min(temperatura1, temperatura2, temperatura3, temperatura4, temperatura5)\n",
    "\n",
    "# Cálculo da maior temperatura\n",
    "maior_temperatura = max(temperatura1, temperatura2, temperatura3, temperatura4, temperatura5)\n",
    "\n",
    "# Cálculo da média das temperaturas\n",
    "media_temperatura = (temperatura1 + temperatura2 + temperatura3 + temperatura4 + temperatura5) / 5\n",
    "\n",
    "print(f\"A menor temperatura informada foi: {menor_temperatura:.2f} C°\")\n",
    "print(f\"A maior temperatura informada foi: {maior_temperatura:.2f} C°\")\n",
    "print(f\"A média das temperaturas informadas foi: {media_temperatura:.2f} C°\")\n",
    "\n"
   ]
  },
  {
   "cell_type": "code",
   "execution_count": 34,
   "metadata": {},
   "outputs": [
    {
     "name": "stdout",
     "output_type": "stream",
     "text": [
      "O valor do saldo medio foi: 500.0\n",
      "E o valor do crédito foi: R$ 150.0\n"
     ]
    }
   ],
   "source": [
    " # 12. Um banco concederá um crédito especial aos seus clientes, variável com o saldo médio no último ano. Faça um algoritmo que leia o saldo médio de um cliente e calcule o valor do crédito de acordo com a tabela abaixo. Mostre uma mensagem informando o saldo médio e o valor do crédito.\n",
    "\n",
    "saldoMedio = float(input(\"Digite o seu saldo medio: \"))\n",
    "\n",
    "if saldoMedio < 200:\n",
    "    print(f\"Nenhum credito aplicado.\")\n",
    "elif saldoMedio > 200 and saldoMedio <= 400:\n",
    "    valorCredito = (saldoMedio * 20) / 100\n",
    "    print(f\"O valor do saldo medio foi: {saldoMedio}\" \"\\n\"f\"E o valor do crédito foi: R$ {valorCredito}\" )\n",
    "elif saldoMedio > 400 and saldoMedio <= 600:\n",
    "    valorCredito = (saldoMedio * 30) / 100\n",
    "    print(f\"O valor do saldo medio foi: {saldoMedio}\" \"\\n\"f\"E o valor do crédito foi: R$ {valorCredito}\" )\n",
    "elif saldoMedio > 601:\n",
    "    valorCredito = (saldoMedio * 40) / 100\n",
    "    print(f\"O valor do saldo medio foi: {saldoMedio}\" \"\\n\"f\"E o valor do crédito foi: R$ {valorCredito}\" )\n",
    "\n"
   ]
  },
  {
   "cell_type": "code",
   "execution_count": 39,
   "metadata": {},
   "outputs": [
    {
     "name": "stdout",
     "output_type": "stream",
     "text": [
      "------------ BEM VINDO AO INSS ------------\n",
      "Olá Gabriel\n",
      "Sua idade atual é de 19 em 2024\n",
      "O ano em que você podera se aposentar é: 2070\n"
     ]
    }
   ],
   "source": [
    "# 13. Você foi contratado(a) para fazer um serviço para o INSS (Instituto Nacional do Seguro Social) do Brasil. O trabalho consiste em criar um programa que diga a pessoa o ano que ela poderá se aposentar. Você deve perguntar a pessoa, o nome, a idade e criar uma mensagem dizendo em qual ano ela irá aposentar. Considere que todas as pessoas poderão se aposentar aos 65 anos de idade(rs).\n",
    "\n",
    "print(\"------------ BEM VINDO AO INSS ------------\")\n",
    "ano = 2024\n",
    "nome = input(\"Qual seu nome? \")\n",
    "print(f\"Olá {nome}\")\n",
    "idade = int(input(\"Qual sua idade? \"))\n",
    "idadeAposentar = 65\n",
    "aposentadoria = (idadeAposentar - idade) + ano\n",
    "if idade < idadeAposentar:\n",
    "    print(f\"Sua idade atual é de {idade} em 2024\" \"\\n\"f\"O ano em que você podera se aposentar é: {aposentadoria}\")\n",
    "else:\n",
    "    print(f\"Com {idade} anos de idade você ja atingiu a idade minima para a aposentadoria\")\n",
    "\n",
    "\n"
   ]
  },
  {
   "cell_type": "code",
   "execution_count": 40,
   "metadata": {},
   "outputs": [
    {
     "name": "stdout",
     "output_type": "stream",
     "text": [
      "Folha de Pagamento\n",
      "Valor da hora: R$ 10.00\n",
      "Horas trabalhadas: 50\n",
      "-----------------------------------\n",
      "Salário bruto: R$ 500.00\n",
      "Desconto IR: R$ 0.00\n",
      "Desconto Sindicato: R$ 15.00\n",
      "FGTS: R$ 55.00\n",
      "-----------------------------------\n",
      "Salário líquido: R$ 485.00\n",
      "-----------------------------------\n"
     ]
    }
   ],
   "source": [
    " # 14. Faça um programa para o cálculo de uma folha de pagamento, sabendo que os descontos são do imposto de Renda, que depende do salário bruto (conforme tabela abaixo), 3% para o Sindicato e que o FGTS corresponde a 11% do salário bruto, mas não é descontado (é a empresa que deposita). O salário líquido corresponde ao salário bruto menos os descontos. O programa deverá pedir ao usuário o valor da sua hora e a quantidade de horas trabalhadas no mês.\n",
    "\n",
    "valor_hora = float(input(\"Informe o valor da hora trabalhada: \"))\n",
    "horas_trabalhadas = int(input(\"Informe a quantidade de horas trabalhadas: \"))\n",
    "\n",
    "salario_bruto = valor_hora * horas_trabalhadas\n",
    "\n",
    "# Cálculo do desconto do IR\n",
    "if salario_bruto <= 2112.00:\n",
    "    desconto_ir = 0\n",
    "elif salario_bruto <= 2826.65:\n",
    "    desconto_ir = salario_bruto * 0.075\n",
    "elif salario_bruto <= 3751.05:\n",
    "    desconto_ir = salario_bruto * 0.15\n",
    "elif salario_bruto <= 4664.68:\n",
    "    desconto_ir = salario_bruto * 0.225\n",
    "else:\n",
    "    desconto_ir = salario_bruto * 0.275\n",
    "\n",
    "# Cálculo do desconto do Sindicato\n",
    "desconto_sindicato = salario_bruto * 0.03\n",
    "\n",
    "# Cálculo do FGTS (não descontado)\n",
    "fgts = salario_bruto * 0.11\n",
    "\n",
    "# Cálculo do salário líquido\n",
    "salario_liquido = salario_bruto - desconto_ir - desconto_sindicato\n",
    "\n",
    "\n",
    "\n",
    "print(\"Folha de Pagamento\")\n",
    "print(f\"Valor da hora: R$ {valor_hora:.2f}\")\n",
    "print(f\"Horas trabalhadas: {horas_trabalhadas}\")\n",
    "print(\"-----------------------------------\")\n",
    "print(f\"Salário bruto: R$ {salario_bruto:.2f}\")\n",
    "print(f\"Desconto IR: R$ {desconto_ir:.2f}\")\n",
    "print(f\"Desconto Sindicato: R$ {desconto_sindicato:.2f}\")\n",
    "print(f\"FGTS: R$ {fgts:.2f}\")\n",
    "print(\"-----------------------------------\")\n",
    "print(f\"Salário líquido: R$ {salario_liquido:.2f}\")\n",
    "print(\"-----------------------------------\")\n"
   ]
  },
  {
   "cell_type": "markdown",
   "metadata": {},
   "source": []
  },
  {
   "cell_type": "markdown",
   "metadata": {},
   "source": []
  }
 ],
 "metadata": {
  "kernelspec": {
   "display_name": "Python 3",
   "language": "python",
   "name": "python3"
  },
  "language_info": {
   "codemirror_mode": {
    "name": "ipython",
    "version": 3
   },
   "file_extension": ".py",
   "mimetype": "text/x-python",
   "name": "python",
   "nbconvert_exporter": "python",
   "pygments_lexer": "ipython3",
   "version": "3.12.3"
  }
 },
 "nbformat": 4,
 "nbformat_minor": 2
}
